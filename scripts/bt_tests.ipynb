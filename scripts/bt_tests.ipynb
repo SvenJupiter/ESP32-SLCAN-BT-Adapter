{
 "cells": [
  {
   "cell_type": "code",
   "execution_count": 1,
   "metadata": {},
   "outputs": [],
   "source": [
    "import sys\n",
    "import bluetooth\n",
    "import obd\n",
    "import can"
   ]
  },
  {
   "cell_type": "code",
   "execution_count": null,
   "metadata": {},
   "outputs": [],
   "source": [
    "\"\"\"PyBluez simple example inquiry.py\n",
    "Performs a simple device inquiry followed by a remote name request of each\n",
    "discovered device\n",
    "Author: Albert Huang <albert@csail.mit.edu>\n",
    "$Id: inquiry.py 401 2006-05-05 19:07:48Z albert $\n",
    "\"\"\"\n",
    "\n",
    "print(\"Performing inquiry...\")\n",
    "\n",
    "nearby_devices = bluetooth.discover_devices(duration=8, lookup_names=True,\n",
    "                                            flush_cache=True, lookup_class=False)\n",
    "\n",
    "print(f\"Found {len(nearby_devices)} devices\")\n",
    "\n",
    "for addr, name in nearby_devices:\n",
    "    try:\n",
    "        print(f\"   {addr} - {name}\")\n",
    "    except UnicodeEncodeError:\n",
    "        print(f\"   {addr} - {name.encode('utf-8', 'replace')}\")"
   ]
  },
  {
   "cell_type": "code",
   "execution_count": null,
   "metadata": {},
   "outputs": [],
   "source": [
    "\"\"\"PyBluez simple example sdp-browse.py\n",
    "Displays services being advertised on a specified bluetooth device.\n",
    "Author: Albert Huang <albert@csail.mit.edu>\n",
    "$Id: sdp-browse.py 393 2006-02-24 20:30:15Z albert $\n",
    "\"\"\"\n",
    "\n",
    "# if len(sys.argv) < 2:\n",
    "#     print(\"Usage: sdp-browse.py <addr>\")\n",
    "#     print(\"   addr - can be a bluetooth address, \\\"localhost\\\", or \\\"all\\\"\")\n",
    "#     sys.exit(2)\n",
    "\n",
    "# target = sys.argv[1]\n",
    "# if target == \"all\":\n",
    "#     target = None\n",
    "\n",
    "target = \"30:AE:A4:1C:C5:3E\" # myESP32 bluetooth address\n",
    "# target = \"84:CF:BF:8D:C3:F8\" # Kai_FP3 bluetooth address\n",
    "\n",
    "services = bluetooth.find_service(address=target)\n",
    "\n",
    "if len(services) > 0:\n",
    "    print(f\"Found {len(services)} services on {target}.\")\n",
    "else:\n",
    "    print(\"No services found.\")\n",
    "\n",
    "for svc in services:\n",
    "    print(\"\\nService Name:\", svc[\"name\"])\n",
    "    print(\"    Host:       \", svc[\"host\"])\n",
    "    print(\"    Description:\", svc[\"description\"])\n",
    "    print(\"    Provided By:\", svc[\"provider\"])\n",
    "    print(\"    Protocol:   \", svc[\"protocol\"])\n",
    "    print(\"    channel/PSM:\", svc[\"port\"])\n",
    "    print(\"    svc classes:\", svc[\"service-classes\"])\n",
    "    print(\"    profiles:   \", svc[\"profiles\"])\n",
    "    print(\"    service id: \", svc[\"service-id\"])"
   ]
  },
  {
   "cell_type": "code",
   "execution_count": null,
   "metadata": {},
   "outputs": [],
   "source": [
    "\"\"\"PyBluez simple example rfcomm-client.py\n",
    "Simple demonstration of a client application that uses RFCOMM sockets intended\n",
    "for use with rfcomm-server.\n",
    "Author: Albert Huang <albert@csail.mit.edu>\n",
    "$Id: rfcomm-client.py 424 2006-08-24 03:35:54Z albert $\n",
    "\"\"\"\n",
    "\n",
    "\n",
    "\n",
    "addr = None\n",
    "\n",
    "# if len(sys.argv) < 2:\n",
    "#     print(\"No device specified. Searching all nearby bluetooth devices for \"\n",
    "#           \"the SampleServer service...\")\n",
    "# else:\n",
    "#     addr = sys.argv[1]\n",
    "#     print(\"Searching for SampleServer on {}...\".format(addr))\n",
    "\n",
    "# search for the SPP service\n",
    "addr = \"30:AE:A4:1C:C5:3E\" # myESP32 bluetooth address\n",
    "service_matches = bluetooth.find_service(name=\"SPP_SERVER\", address=addr)\n",
    "\n",
    "# # search for the SPP service\n",
    "# addr = \"84:CF:BF:8D:C3:F8\" # Kai_FP3 bluetooth address\n",
    "# service_matches = bluetooth.find_service(name=\"OBEX Object Push\", address=addr)\n",
    "\n",
    "if len(service_matches) == 0:\n",
    "    print(\"Couldn't find the SPP service.\")\n",
    "\n",
    "else:\n",
    "    first_match = service_matches[0]\n",
    "    port = first_match[\"port\"]\n",
    "    name = first_match[\"name\"]\n",
    "    host = first_match[\"host\"]\n",
    "\n",
    "    print(f\"Connecting to \\\"{name}\\\" on {host} channel {port}\")\n",
    "\n",
    "    # Create the client socket\n",
    "    sock = bluetooth.BluetoothSocket(bluetooth.RFCOMM)\n",
    "    sock.connect((host, port))\n",
    "\n",
    "    print(\"Connected. Type something...\")\n",
    "    while True:\n",
    "        data = input()\n",
    "        if not data:\n",
    "            break\n",
    "        sock.send(data)\n",
    "\n",
    "    sock.close()\n",
    "    print(\"Connection closed\")"
   ]
  },
  {
   "cell_type": "code",
   "execution_count": null,
   "metadata": {},
   "outputs": [],
   "source": [
    "    port = 7\n",
    "    name = \"SPP_SERVER\"\n",
    "    host = \"30:AE:A4:1C:C5:3E\"\n",
    "\n",
    "    print(f\"Connecting to \\\"{name}\\\" on {host} channel {port}\")\n",
    "\n",
    "    # Create the client socket\n",
    "    sock = bluetooth.BluetoothSocket(bluetooth.RFCOMM)\n",
    "\n",
    "    try:\n",
    "        sock.connect((host, port))\n",
    "\n",
    "        try:\n",
    "            print(\"Connected. Type something...\")\n",
    "            while True:\n",
    "                data = input()\n",
    "                if not data:\n",
    "                    break\n",
    "                sock.send(data)\n",
    "                msg = sock.recv(1024)\n",
    "                print(msg)\n",
    "        except Exception as err:\n",
    "            print(err)\n",
    "            raise\n",
    "        finally:\n",
    "            sock.close()\n",
    "            print(\"Connection closed\")\n",
    "            \n",
    "    except Exception as err:\n",
    "        print(err)\n",
    "        raise"
   ]
  },
  {
   "cell_type": "code",
   "execution_count": 61,
   "metadata": {},
   "outputs": [
    {
     "name": "stdout",
     "output_type": "stream",
     "text": [
      "Connecting to \"SPP_SERVER\" on 30:AE:A4:1C:C5:3E channel 7\n",
      "Connected. Sending cmd b'N\\r' ...\n",
      "b'N1118\\r'\n",
      "Connection closed\n"
     ]
    }
   ],
   "source": [
    "    port = 7\n",
    "    name = \"SPP_SERVER\"\n",
    "    host = \"30:AE:A4:1C:C5:3E\"\n",
    "\n",
    "    print(f\"Connecting to \\\"{name}\\\" on {host} channel {port}\")\n",
    "\n",
    "    # Create the client socket\n",
    "    sock = bluetooth.BluetoothSocket(bluetooth.RFCOMM)\n",
    "\n",
    "    try:\n",
    "        sock.connect((host, port))\n",
    "\n",
    "        try:\n",
    "            cmd = \"N\" # Serial number\n",
    "            # cmd = \"V\" # Version\n",
    "            # cmd = \"S6\" # 500 kbit/s\n",
    "            # cmd = \"F\" # Status flags\n",
    "            # cmd = \"W1\" # Singel mode filter\n",
    "            # cmd = \"Z1\" # timestamps\n",
    "            # cmd = \"X1\" # auto poll\n",
    "            # cmd = \"C\" # Close\n",
    "            # cmd = \"O\" # Open\n",
    "            # cmd = \"Q1\" # auto startup\n",
    "            # cmd = \"P\" # poll\n",
    "            # cmd = \"A\" # poll all\n",
    "            # cmd = \"t123400112233\"\n",
    "            cmd = bytes(cmd + \"\\r\", encoding='utf8')\n",
    "            print(f\"Connected. Sending cmd {cmd} ...\")\n",
    "            sock.send(cmd)\n",
    "            msg = sock.recv(1024)\n",
    "            print(msg)\n",
    "        except Exception as err:\n",
    "            print(err)\n",
    "            raise\n",
    "        finally:\n",
    "            sock.close()\n",
    "            print(\"Connection closed\")\n",
    "            \n",
    "    except Exception as err:\n",
    "        print(err)\n",
    "        raise"
   ]
  },
  {
   "cell_type": "code",
   "execution_count": 6,
   "metadata": {},
   "outputs": [
    {
     "data": {
      "text/plain": [
       "OBDCommand('SPEED', 'Vehicle Speed', b'010D', 3, raw_string, ecu=ECU.ENGINE, fast=True)"
      ]
     },
     "execution_count": 6,
     "metadata": {},
     "output_type": "execute_result"
    }
   ],
   "source": [
    "obd.commands.SPEED"
   ]
  },
  {
   "cell_type": "code",
   "execution_count": 2,
   "metadata": {},
   "outputs": [],
   "source": [
    "can_bt_bus = can.interface.Bus(bustype=\"slcan\", channel=\"/dev/rfcomm0\", ttyBaudrate=115200, bitrate=500000)"
   ]
  },
  {
   "cell_type": "code",
   "execution_count": 3,
   "metadata": {},
   "outputs": [],
   "source": [
    "can_bt_bus.shutdown()"
   ]
  }
 ],
 "metadata": {
  "interpreter": {
   "hash": "767d51c1340bd893661ea55ea3124f6de3c7a262a8b4abca0554b478b1e2ff90"
  },
  "kernelspec": {
   "display_name": "Python 3.8.10 64-bit",
   "language": "python",
   "name": "python3"
  },
  "language_info": {
   "codemirror_mode": {
    "name": "ipython",
    "version": 3
   },
   "file_extension": ".py",
   "mimetype": "text/x-python",
   "name": "python",
   "nbconvert_exporter": "python",
   "pygments_lexer": "ipython3",
   "version": "3.8.10"
  },
  "orig_nbformat": 4
 },
 "nbformat": 4,
 "nbformat_minor": 2
}
